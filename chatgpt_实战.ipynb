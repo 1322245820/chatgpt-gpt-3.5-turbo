{
  "nbformat": 4,
  "nbformat_minor": 0,
  "metadata": {
    "colab": {
      "provenance": [],
      "collapsed_sections": [
        "kYOTgKqFGRtP",
        "a1w9bWRJGXUG"
      ],
      "mount_file_id": "1hVotUggZhBsFhTdkkxZb463Xf3dWNoZy",
      "authorship_tag": "ABX9TyPySGYjnjW1NCZATcPnBPxd",
      "include_colab_link": true
    },
    "kernelspec": {
      "name": "python3",
      "display_name": "Python 3"
    },
    "language_info": {
      "name": "python"
    }
  },
  "cells": [
    {
      "cell_type": "markdown",
      "metadata": {
        "id": "view-in-github",
        "colab_type": "text"
      },
      "source": [
        "<a href=\"https://colab.research.google.com/github/1322245820/chatgpt-gpt-3.5-turbo/blob/main/chatgpt_%E5%AE%9E%E6%88%98.ipynb\" target=\"_parent\"><img src=\"https://colab.research.google.com/assets/colab-badge.svg\" alt=\"Open In Colab\"/></a>"
      ]
    },
    {
      "cell_type": "code",
      "source": [
        "\n",
        "pip install openai"
      ],
      "metadata": {
        "colab": {
          "base_uri": "https://localhost:8080/"
        },
        "id": "yCaHqCT_ZhU3",
        "outputId": "4de2cd7a-d671-4986-b64a-8bd9510ac937"
      },
      "execution_count": 2,
      "outputs": [
        {
          "output_type": "stream",
          "name": "stdout",
          "text": [
            "Looking in indexes: https://pypi.org/simple, https://us-python.pkg.dev/colab-wheels/public/simple/\n",
            "Collecting openai\n",
            "  Downloading openai-0.27.0-py3-none-any.whl (70 kB)\n",
            "\u001b[2K     \u001b[90m━━━━━━━━━━━━━━━━━━━━━━━━━━━━━━━━━━━━━━━━\u001b[0m \u001b[32m70.1/70.1 KB\u001b[0m \u001b[31m6.5 MB/s\u001b[0m eta \u001b[36m0:00:00\u001b[0m\n",
            "\u001b[?25hRequirement already satisfied: tqdm in /usr/local/lib/python3.8/dist-packages (from openai) (4.64.1)\n",
            "Requirement already satisfied: aiohttp in /usr/local/lib/python3.8/dist-packages (from openai) (3.8.4)\n",
            "Requirement already satisfied: requests>=2.20 in /usr/local/lib/python3.8/dist-packages (from openai) (2.25.1)\n",
            "Requirement already satisfied: urllib3<1.27,>=1.21.1 in /usr/local/lib/python3.8/dist-packages (from requests>=2.20->openai) (1.26.14)\n",
            "Requirement already satisfied: idna<3,>=2.5 in /usr/local/lib/python3.8/dist-packages (from requests>=2.20->openai) (2.10)\n",
            "Requirement already satisfied: certifi>=2017.4.17 in /usr/local/lib/python3.8/dist-packages (from requests>=2.20->openai) (2022.12.7)\n",
            "Requirement already satisfied: chardet<5,>=3.0.2 in /usr/local/lib/python3.8/dist-packages (from requests>=2.20->openai) (4.0.0)\n",
            "Requirement already satisfied: aiosignal>=1.1.2 in /usr/local/lib/python3.8/dist-packages (from aiohttp->openai) (1.3.1)\n",
            "Requirement already satisfied: attrs>=17.3.0 in /usr/local/lib/python3.8/dist-packages (from aiohttp->openai) (22.2.0)\n",
            "Requirement already satisfied: yarl<2.0,>=1.0 in /usr/local/lib/python3.8/dist-packages (from aiohttp->openai) (1.8.2)\n",
            "Requirement already satisfied: frozenlist>=1.1.1 in /usr/local/lib/python3.8/dist-packages (from aiohttp->openai) (1.3.3)\n",
            "Requirement already satisfied: multidict<7.0,>=4.5 in /usr/local/lib/python3.8/dist-packages (from aiohttp->openai) (6.0.4)\n",
            "Requirement already satisfied: async-timeout<5.0,>=4.0.0a3 in /usr/local/lib/python3.8/dist-packages (from aiohttp->openai) (4.0.2)\n",
            "Requirement already satisfied: charset-normalizer<4.0,>=2.0 in /usr/local/lib/python3.8/dist-packages (from aiohttp->openai) (3.0.1)\n",
            "Installing collected packages: openai\n",
            "Successfully installed openai-0.27.0\n"
          ]
        }
      ]
    },
    {
      "cell_type": "code",
      "source": [
        "# 导入openai,并填写api_key\n",
        "import openai\n",
        "openai.api_key = \"your key here\""
      ],
      "metadata": {
        "id": "IKQ07XONZf5J"
      },
      "execution_count": 3,
      "outputs": []
    },
    {
      "cell_type": "markdown",
      "source": [
        "## chatgpt-面试问题提示词\n"
      ],
      "metadata": {
        "id": "kYOTgKqFGRtP"
      }
    },
    {
      "cell_type": "markdown",
      "source": [
        "介绍：面试中对不同岗位的不同题目给出解题提示，以关键词的形式给出"
      ],
      "metadata": {
        "id": "DM9Qkqe6Gzlv"
      }
    },
    {
      "cell_type": "code",
      "source": [
        "# 前期构建不同角色的content\n",
        "setting1 =  '''\n",
        "场景：假如你是一名非常善于面试而且善于教人面试的面试专家，以关键词的形式给出面试题的解题提示；\n",
        "  '''\n",
        "\n",
        "starter = '请输出以下问题的关键词提示：'\n",
        "\n",
        "requirement = '''\n",
        "要求：\n",
        "1.必须以关键词/关键词/关键词/关键词/关键词/关键词的形式输出，不要出现句子\n",
        "2.关键词之间含义不重复\n",
        "3.尽可能从多个角度思考问题，给出解答，这样能给我更多的启发\n",
        "4.最多不超过15个关键词\n",
        "5.鼓励创造性思考和独特见解\n",
        "\n",
        "let's think step by step \n",
        "'''"
      ],
      "metadata": {
        "id": "cTg2_aD4Ze94"
      },
      "execution_count": 16,
      "outputs": []
    },
    {
      "cell_type": "code",
      "execution_count": 17,
      "metadata": {
        "id": "yz9PaRoUX5VY"
      },
      "outputs": [],
      "source": [
        "# 构建函数\n",
        "def get_response(question_text):\n",
        "  completion = openai.ChatCompletion.create(\n",
        "    model=\"gpt-3.5-turbo\", # 选取gpt-3.5-turbo模型\n",
        "    messages=[\n",
        "      {\"role\":\"system\",\"content\":setting1}, #系统角色：不宜过多设定\n",
        "      {\"role\":\"user\",\"content\":'请输出以下问题的关键词提示：你是如何做竞品分析的？。'},#用户角色：举例子\n",
        "      {\"role\":\"assistant\",\"content\":'商业模式/产品亮点/营销打法/用户规模/渠道/用户体验五要素'},#助手角色：按要求给出答案的例子\n",
        "      {\"role\":\"user\",\"content\":'请输出以下问题的关键词提示：你是如何快速熟悉全新事物的?'},\n",
        "      {\"role\":\"assistant\",\"content\":'分解目标/理论知识/实践/复盘/高手/交流'},\n",
        "      {\"role\":\"user\",\"content\":'请输出以下问题的关键词提示：用户体验设计原则都有哪些?'},\n",
        "      {\"role\":\"assistant\",\"content\":'可见性/场景贴切/可控/一致性/防错防呆/协助用户记忆/容错/帮助和提示/恢复现场/灵活高效'},\n",
        "      {\"role\":\"user\",\"content\":'请输出以下问题的关键词提示：如果你是美团外卖的运营，你会怎么去做好春节期间对于骑手运力的保障?'},\n",
        "      {\"role\":\"assistant\",\"content\":'订单预估/订单分布/家庭用餐/商户端/运力储备/数据分析/智能配送'},\n",
        "      {\"role\":\"user\",\"content\":question_text},   #设定问题\n",
        "    ],\n",
        "    max_tokens=500,  #调整参数\n",
        "    n=1,\n",
        "    stop=None,\n",
        "    temperature=0.6,  #调整参数\n",
        "    )\n",
        "\n",
        "  response_text = completion[\"choices\"][0]['message']['content']\n",
        "  return response_text"
      ]
    },
    {
      "cell_type": "code",
      "source": [
        "\n",
        "# 构建问题列表\n",
        "question_list = [\"请你说说To B产品和To C产品的区别是什么？\", \"请你从产品经理的角度分析一下拼多多这款产品。\",\n",
        "                     \"市场与销售这两个职业的区别在哪里？\", \"你遇到的最有挫败感的事情是什么？\",\n",
        "                     \"请你分享一下Android和iOS的交互区别\", \"挑一个你认为满意的作品集说说，描述一下作品的优势和想法\"]\n",
        "\n",
        "#设置问题循环\n",
        "for question_text in question_list:\n",
        "    question_text1 = starter + question_text + requirement   #最终的回答文本由前期设定的content三部分构成\n",
        "    chatbot_response = get_response(question_text1)\n",
        "    print(chatbot_response)\n",
        "    print(\"\\n----------\")"
      ],
      "metadata": {
        "id": "l9Qo8xOjZycr",
        "colab": {
          "base_uri": "https://localhost:8080/"
        },
        "outputId": "d4301d57-3def-4483-fd42-dd2132c8c2c1"
      },
      "execution_count": 18,
      "outputs": [
        {
          "output_type": "stream",
          "name": "stdout",
          "text": [
            "To B产品：专业性强/定制化服务/复杂需求/长周期销售/高额订单/多环节决策/行业垂直化\n",
            "\n",
            "To C产品：大众化/标准化服务/简单易懂/短周期销售/小额订单/单环节决策/品牌营销\n",
            "\n",
            "----------\n",
            "用户数量/用户画像/用户需求/用户体验/商业模式/运营策略/竞争对手/业务拓展/产品特点/技术实现/数据分析/团队管理/社会影响/可持续发展\n",
            "\n",
            "----------\n",
            "市场：市场调研/产品定位/品牌推广/渠道拓展/市场营销/公关活动/用户洞察/市场分析/竞争对手/市场策略\n",
            "\n",
            "销售：销售技巧/客户开发/客户维护/销售管理/渠道建设/销售数据/谈判技巧/销售目标/售后服务/销售流程\n",
            "\n",
            "----------\n",
            "挫败感/原因分析/情绪管理/反思总结/自我激励/接受失败/寻求帮助/重新规划/调整策略/积极心态/自我肯定/放松心情/寻找灵感/尝试新的方法\n",
            "\n",
            "----------\n",
            "Android：Material Design/虚拟按键/多任务处理/自由度高/可定制性强/iOS：Human Interface Guidelines/实体按键/单任务处理/一致性强/用户体验好/交互更自然/导航栏/底部标签栏/返回手势/3D Touch/通知栏/控制中心/锁屏界面\n",
            "\n",
            "----------\n",
            "作品定位/目标群体/创意/视觉表现/用户体验/功能设计/交互设计/信息架构/内容策略/品牌形象/营销策略/数据分析/技术实现/团队协作\n",
            "\n",
            "----------\n"
          ]
        }
      ]
    },
    {
      "cell_type": "markdown",
      "source": [
        "## chatgpt-面试问题的解题思路\n"
      ],
      "metadata": {
        "id": "a1w9bWRJGXUG"
      }
    },
    {
      "cell_type": "markdown",
      "source": [
        "介绍：训练报告中对不同岗位的不同题目给出解题提示，以句子的形式给出"
      ],
      "metadata": {
        "id": "L8Bc4qeyHGay"
      }
    },
    {
      "cell_type": "code",
      "source": [
        "# 前期构建不同角色的content\n",
        "setting1 =  '''\n",
        "场景：假如你是一名非常善于面试而且善于教人面试的面试专家；\n",
        "'''\n",
        "answer = '''\n",
        "考察要点：\n",
        "考察求职者的自我驱动性、学习能力、学习主动性；\n",
        "回答方向：\n",
        "·首先明确需要读书的原因，比如：提升生产效率、提高自我认知\n",
        "·接着分享最近的阅读书单以及自己的收获；\n",
        "·继续分享读书过程中要注重哪些方面，比如：建立良好的读书习惯、持续的学习态度、自我反思和总结\n",
        "·最后拓展一下其他自我提升、自我学习途径，比如上课、深度交流、听播客等等；\n",
        "'''\n",
        "starter = '请输出以下问题的解题思路：'\n",
        "\n",
        "requirement = '''\n",
        "要求：\n",
        "1.整体结构采用考察要点+回答方向的形式回答；\n",
        "2.考察要点用以阐明此题所考察的能力，回答方向用以启发学生需要从什么方面进行解答；\n",
        "3.不用针对问题展开详细的解答，只提供解题的思路；\n",
        "4.解题思路结构条理清晰，有逻辑；\n",
        "5.以专业术语作答；\n",
        "6.鼓励创造性思考和独特见解\n",
        "\n",
        "let's think step by step\n",
        "'''"
      ],
      "metadata": {
        "id": "fItCClMjGmAt"
      },
      "execution_count": 19,
      "outputs": []
    },
    {
      "cell_type": "code",
      "source": [
        "# 构建函数\n",
        "def get_response(question_text):\n",
        "  completion = openai.ChatCompletion.create(\n",
        "    model=\"gpt-3.5-turbo\", # 选取gpt-3.5-turbo模型\n",
        "    messages=[\n",
        "      {\"role\":\"system\",\"content\":setting1},\n",
        "      {\"role\":\"user\",\"content\":'请输出以下问题的解题思路：请问你一年读多少本书？'},\n",
        "      {\"role\":\"assistant\",\"content\":answer},\n",
        "      {\"role\":\"user\",\"content\":question_text}\n",
        "    ],\n",
        "    max_tokens=700, #调整参数\n",
        "    n=1,\n",
        "    stop=None,\n",
        "    temperature=0.6, #调整参数\n",
        "    )\n",
        "\n",
        "  response_text = completion[\"choices\"][0]['message']['content']\n",
        "  return response_text"
      ],
      "metadata": {
        "id": "U1i6ld3EGb4a"
      },
      "execution_count": 22,
      "outputs": []
    },
    {
      "cell_type": "code",
      "source": [
        "question_list = [\"请你说说To B产品和To C产品的区别是什么？\", \"请你从产品经理的角度分析一下拼多多这款产品。\",\n",
        "                     \"市场与销售这两个职业的区别在哪里？\", \"你遇到的最有挫败感的事情是什么？\",\n",
        "                     \"请你分享一下Android和iOS的交互区别\", \"挑一个你认为满意的作品集说说，描述一下作品的优势和想法\"]\n",
        "\n",
        "\n",
        "\n",
        "for question_text in question_list:\n",
        "    question_text1 = starter + question_text +requirement\n",
        "    chatbot_response = get_response(question_text1)\n",
        "    print(chatbot_response)\n",
        "    print(\"\\n----------\")"
      ],
      "metadata": {
        "id": "dIYL_quJHUjN",
        "colab": {
          "base_uri": "https://localhost:8080/"
        },
        "outputId": "248f5000-3c7d-43ad-c893-486476a6af29"
      },
      "execution_count": 24,
      "outputs": [
        {
          "output_type": "stream",
          "name": "stdout",
          "text": [
            "考察要点：\n",
            "考察求职者对To B产品和To C产品的理解、区分能力、产品定位能力；\n",
            "回答方向：\n",
            "·首先明确To B产品和To C产品的定义和区别；\n",
            "·接着分享To B产品和To C产品的市场定位、用户群体、功能特点、销售渠道等方面的差异；\n",
            "·继续探讨To B产品和To C产品的设计、研发、运营、营销等方面的区别；\n",
            "·最后可以结合自己从事的行业或者公司的产品来具体解答这个问题，并分享自己对于如何更好地推动To B或To C产品的发展的想法和见解。\n",
            "\n",
            "----------\n",
            "考察要点：\n",
            "考察产品经理的分析能力、用户洞察能力、产品设计能力；\n",
            "回答方向：\n",
            "1. 产品定位与核心功能：\n",
            "分析拼多多的目标用户、竞品分析，梳理出拼多多核心功能与特色，比如：社交电商、拼团优惠等；\n",
            "2. 产品特点与用户体验：\n",
            "分析拼多多的产品设计特点，比如：简单易用、社交化、互动性强等，进而分析用户体验、用户满意度；\n",
            "3. 数据分析与产品优化：\n",
            "分析拼多多的数据分析方法和指标，比如：GMV、转化率、用户留存率等，进而分析产品优化方向；\n",
            "4. 产品创新与未来发展：\n",
            "分析拼多多的产品创新方向和未来发展趋势，比如：社交化、直播电商、O2O等，进而分析拼多多的未来发展方向和竞争优势。\n",
            "\n",
            "以上是一些可能的思路，产品经理需要从多个角度分析产品，以达到更好地理解产品和优化产品的目的。\n",
            "\n",
            "----------\n",
            "考察要点：\n",
            "1. 理解市场和销售的定义和职能；\n",
            "2. 分析市场和销售在职场中的作用和重要性；\n",
            "3. 探讨市场和销售在实践中的区别和联系。\n",
            "\n",
            "回答方向：\n",
            "1. 首先解释市场和销售的定义和职能，包括市场调研、市场推广、产品定位、销售渠道、销售策略等方面；\n",
            "2. 接着分析市场和销售在职场中的作用和重要性，以及对企业发展的影响和贡献；\n",
            "3. 探讨市场和销售在实践中的区别和联系，包括市场需要获得客户需求和市场趋势，而销售需要推销产品并与客户建立良好的关系；市场需要制定市场计划和策略，而销售需要执行销售计划和策略等等。同时，市场和销售在实践中也有很多联系，比如市场调研可以为销售提供客户需求信息，销售反馈也可以为市场提供市场趋势信息等等。\n",
            "\n",
            "鼓励创造性思考和独特见解：\n",
            "可以从自己的经验和实践中，结合市场和销售的定义和职能，提出一些新的见解和思考，比如如何在实践中更好地结合市场和销售，如何提高销售业绩和市场份额等等。\n",
            "\n",
            "----------\n",
            "考察要点：\n",
            "考察求职者的应变能力、心理素质、解决问题的能力；\n",
            "回答方向：\n",
            "·首先描述遇到的具体事情，包括时间、地点、涉及的人物和事件经过等等；\n",
            "·接着阐明自己面对这个问题所采取的解决措施，比如：寻求他人帮助、自我调节、学习新知识等等；\n",
            "·然后谈谈自己从这个问题中学到了什么，比如：更加坚韧、更加谨慎等等；\n",
            "·最后结合具体职业岗位，谈谈自己在工作中如何避免类似的挫败感，比如：提高工作能力、寻求同事支持、提高自我认知等等；\n",
            "·如果有时间，可以进一步讨论如何帮助他人解决类似的问题，比如：提供支持、分享经验、鼓励他人等等；\n",
            "\n",
            "----------\n",
            "考察要点：\n",
            "考察求职者对Android和iOS的交互设计有一定的了解和认知；\n",
            "回答方向：\n",
            "1.首先介绍Android和iOS的交互设计的基本概念和原则，包括用户体验、界面设计、交互方式等；\n",
            "2.接着比较Android和iOS的交互区别，可以从以下几个方面进行展开：\n",
            "  - 设计风格：Android的设计风格更加注重自由度和可定制性，而iOS更加注重简洁、直观和一致性；\n",
            "  - 导航方式：Android采用侧边栏导航和底部导航栏，而iOS采用顶部导航栏和TabBar；\n",
            "  - 操作方式：Android采用长按、拖拽、双指缩放等多种手势，而iOS采用轻扫、捏合、双击等手势；\n",
            "  - 交互反馈：Android的交互反馈相对丰富，包括声音、震动、动画等，而iOS的交互反馈相对简单，主要通过动画实现；\n",
            "  - 其他方面：还可以从字体、颜色、图标等方面进行比较，以及Android和iOS的设计趋势和未来发展等方面进行探讨。\n",
            "3.最后可以分享自己的看法和经验，以及对于未来Android和iOS交互设计的展望。\n",
            "\n",
            "----------\n",
            "考察要点：\n",
            "考察求职者的作品展示能力、创意表达能力、设计思维能力；\n",
            "回答方向：\n",
            "·首先介绍作品集的背景，比如：作品集所涉及的领域、作品集的目的和受众；\n",
            "·接着分享作品集的整体框架和设计思路，比如：采用了哪些设计元素、设计风格等等；\n",
            "·继续阐述作品集的优势和特色，比如：设计独特、创意突出、符合受众需求等等；\n",
            "·重点强调作品集的创新性和对行业的影响，比如：创新的设计理念、引领行业的设计趋势等等；\n",
            "·最后分享自己在设计过程中的思考和感悟，比如：如何平衡设计需求和技术实现、如何处理设计中的挑战等等。\n",
            "\n",
            "----------\n"
          ]
        }
      ]
    },
    {
      "cell_type": "markdown",
      "source": [
        "## chatgpt-面试问题的能力分类"
      ],
      "metadata": {
        "id": "VNPg7kjZHcxQ"
      }
    },
    {
      "cell_type": "markdown",
      "source": [
        "介绍：根据不同岗位的能力模型需要对不同的题目进行能力分类,此处以设计师为例"
      ],
      "metadata": {
        "id": "_hIDAkzBHgaM"
      }
    },
    {
      "cell_type": "code",
      "source": [
        "# 前期构建不同角色的content\n",
        "setting1 =  '''\n",
        "场景：假如你是一名非常善于面试的设计师专家，正在分析属于设计师的面试题；\n",
        "  '''\n",
        "\n",
        "q_prompt = \"\"\"\n",
        "目标：对面试问题所考察的能力进行文本分类，给出具体的能力类型标签；\n",
        "要求：\n",
        "1.输出分类标签必须来自于以下字典中的值：\n",
        "{\n",
        "  通用能力：学习能力,自我认知,沟通能力,执行力,抗压能力,责任心,创新能力,团队合作,洞察力,\n",
        "  专业知识：设计岗位认知,互联网认知,设计理论,营销知识,商业模式,设计规范,设计趋势,\n",
        "  专业技能：用户研究,竞品分析,交互设计,视觉设计,设计工具使用,用户体验,数据分析,动画设计,3D建模,游戏场景设计,\n",
        "  组织影响力：方法论建设、组织协调能力,领导力,知识传承\n",
        "}\n",
        "2.每个面试问题只能被分类成1~2个标签；\n",
        "\n",
        "举例：\n",
        "面试问题：请你描述一下iOS与安卓移动端的中文、英文、数字字体规范。\n",
        "分析过程：该道题考查的是专业知识大类下的平台设计规范能力\n",
        "标签：平台设计规范\n",
        "\n",
        "面试问题：插画一般你是用什么软件画的，可以列举几个软件吗?\n",
        "分析过程：该道题考查的是专业技能大类下的设计工具使用能力\n",
        "标签：设计工具使用\n",
        "\n",
        "面试问题：用户体验设计原则都有哪些?\n",
        "分析过程：该道题考查的是专业技能大类下的用户体验能力\n",
        "标签：用户体验\n",
        "\n",
        "面试问题：对于设计岗位，你会不会觉得设计是吃“青春饭”的职业？\n",
        "分析过程：该道题考查的是专业知识大类下的设计行业认知\n",
        "标签：设计行业认知\n",
        "\n",
        "请你完成这道面试问题的能力分类：\n",
        "\n",
        "面试问题：question_holder\n",
        "分析过程：\n",
        "标签：\n",
        "\n",
        "\"\"\""
      ],
      "metadata": {
        "id": "4YQVCH_hHkL7"
      },
      "execution_count": 13,
      "outputs": []
    },
    {
      "cell_type": "code",
      "source": [
        "# 构建函数\n",
        "def get_response(question_text):\n",
        "  prompt = q_prompt.replace(\"question_holder\", question_text)\n",
        "  completion = openai.ChatCompletion.create(\n",
        "    model=\"gpt-3.5-turbo\", \n",
        "    messages=[\n",
        "      {\"role\":\"system\",\"content\":setting1},\n",
        "      {\"role\":\"user\",\"content\":prompt}\n",
        "    ],\n",
        "    max_tokens=500,  #调参\n",
        "    n=1,\n",
        "    stop=None,\n",
        "    temperature=0,   #调参\n",
        "    )\n",
        "\n",
        "  response_text = completion[\"choices\"][0]['message']['content']\n",
        "  return response_text"
      ],
      "metadata": {
        "id": "a9_u6BHWHrg5"
      },
      "execution_count": 14,
      "outputs": []
    },
    {
      "cell_type": "code",
      "source": [
        "question_list = [\"请你描述一下UI设计的工作流程。\",\"现在常见的语音交互助手产品有哪些，请列出3个？\",\n",
        "                \"在一个知乎社区，你认为一个用户发帖的目的是什么？\",\"请问你为什么想做UI设计师？\",\n",
        "                     \"请你分享一下Android和iOS的交互区别\",\"挑一个你认为满意的作品集说说，描述一下作品的优势和想法\",\n",
        "                \"请举例来说说，你在做设计工作过程中曾遇到过什么困难？\"]\n",
        "\n",
        "for question_text in question_list:\n",
        "    chatbot_response = get_response(question_text)\n",
        "    print(chatbot_response)\n",
        "    print(\"\\n----------\")"
      ],
      "metadata": {
        "id": "NtPNsmaXH3RC",
        "colab": {
          "base_uri": "https://localhost:8080/"
        },
        "outputId": "9486c054-231a-4461-990e-da828202bda2"
      },
      "execution_count": 15,
      "outputs": [
        {
          "output_type": "stream",
          "name": "stdout",
          "text": [
            "标签：视觉设计、设计规范\n",
            "\n",
            "----------\n",
            "专业知识-互联网认知\n",
            "\n",
            "----------\n",
            "通用能力：洞察力\n",
            "\n",
            "----------\n",
            "通用能力：自我认知\n",
            "\n",
            "----------\n",
            "标签：交互设计\n",
            "\n",
            "----------\n",
            "专业技能：视觉设计、用户体验\n",
            "\n",
            "----------\n",
            "通用能力：抗压能力\n",
            "\n",
            "----------\n"
          ]
        }
      ]
    }
  ]
}