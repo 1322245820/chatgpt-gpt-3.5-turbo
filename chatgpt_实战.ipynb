{
  "nbformat": 4,
  "nbformat_minor": 0,
  "metadata": {
    "colab": {
      "provenance": [],
      "mount_file_id": "1hVotUggZhBsFhTdkkxZb463Xf3dWNoZy",
      "authorship_tag": "ABX9TyN4jmfN/bZwKELlYsMVuPD9",
      "include_colab_link": true
    },
    "kernelspec": {
      "name": "python3",
      "display_name": "Python 3"
    },
    "language_info": {
      "name": "python"
    }
  },
  "cells": [
    {
      "cell_type": "markdown",
      "metadata": {
        "id": "view-in-github",
        "colab_type": "text"
      },
      "source": [
        "<a href=\"https://colab.research.google.com/github/1322245820/chatgpt-gpt-3.5-turbo/blob/main/chatgpt_%E5%AE%9E%E6%88%98.ipynb\" target=\"_parent\"><img src=\"https://colab.research.google.com/assets/colab-badge.svg\" alt=\"Open In Colab\"/></a>"
      ]
    },
    {
      "cell_type": "code",
      "source": [
        "# 安装openai\n",
        "pip install openai"
      ],
      "metadata": {
        "colab": {
          "base_uri": "https://localhost:8080/"
        },
        "id": "yCaHqCT_ZhU3",
        "outputId": "67f17b66-c1c5-4b2a-bc65-cb61970cd2c9"
      },
      "execution_count": null,
      "outputs": [
        {
          "output_type": "stream",
          "name": "stdout",
          "text": [
            "Looking in indexes: https://pypi.org/simple, https://us-python.pkg.dev/colab-wheels/public/simple/\n",
            "Collecting openai\n",
            "  Downloading openai-0.27.0-py3-none-any.whl (70 kB)\n",
            "\u001b[2K     \u001b[90m━━━━━━━━━━━━━━━━━━━━━━━━━━━━━━━━━━━━━━━━\u001b[0m \u001b[32m70.1/70.1 KB\u001b[0m \u001b[31m2.0 MB/s\u001b[0m eta \u001b[36m0:00:00\u001b[0m\n",
            "\u001b[?25hRequirement already satisfied: tqdm in /usr/local/lib/python3.8/dist-packages (from openai) (4.64.1)\n",
            "Requirement already satisfied: requests>=2.20 in /usr/local/lib/python3.8/dist-packages (from openai) (2.25.1)\n",
            "Requirement already satisfied: aiohttp in /usr/local/lib/python3.8/dist-packages (from openai) (3.8.4)\n",
            "Requirement already satisfied: certifi>=2017.4.17 in /usr/local/lib/python3.8/dist-packages (from requests>=2.20->openai) (2022.12.7)\n",
            "Requirement already satisfied: idna<3,>=2.5 in /usr/local/lib/python3.8/dist-packages (from requests>=2.20->openai) (2.10)\n",
            "Requirement already satisfied: chardet<5,>=3.0.2 in /usr/local/lib/python3.8/dist-packages (from requests>=2.20->openai) (4.0.0)\n",
            "Requirement already satisfied: urllib3<1.27,>=1.21.1 in /usr/local/lib/python3.8/dist-packages (from requests>=2.20->openai) (1.26.14)\n",
            "Requirement already satisfied: async-timeout<5.0,>=4.0.0a3 in /usr/local/lib/python3.8/dist-packages (from aiohttp->openai) (4.0.2)\n",
            "Requirement already satisfied: frozenlist>=1.1.1 in /usr/local/lib/python3.8/dist-packages (from aiohttp->openai) (1.3.3)\n",
            "Requirement already satisfied: aiosignal>=1.1.2 in /usr/local/lib/python3.8/dist-packages (from aiohttp->openai) (1.3.1)\n",
            "Requirement already satisfied: charset-normalizer<4.0,>=2.0 in /usr/local/lib/python3.8/dist-packages (from aiohttp->openai) (3.0.1)\n",
            "Requirement already satisfied: yarl<2.0,>=1.0 in /usr/local/lib/python3.8/dist-packages (from aiohttp->openai) (1.8.2)\n",
            "Requirement already satisfied: multidict<7.0,>=4.5 in /usr/local/lib/python3.8/dist-packages (from aiohttp->openai) (6.0.4)\n",
            "Requirement already satisfied: attrs>=17.3.0 in /usr/local/lib/python3.8/dist-packages (from aiohttp->openai) (22.2.0)\n",
            "Installing collected packages: openai\n",
            "Successfully installed openai-0.27.0\n"
          ]
        }
      ]
    },
    {
      "cell_type": "code",
      "source": [
        "# 导入openai,并填写api_key\n",
        "import openai\n",
        "openai.api_key = \"your key here\""
      ],
      "metadata": {
        "id": "IKQ07XONZf5J"
      },
      "execution_count": null,
      "outputs": []
    },
    {
      "cell_type": "markdown",
      "source": [
        "## chatgpt-面试问题提示词\n"
      ],
      "metadata": {
        "id": "kYOTgKqFGRtP"
      }
    },
    {
      "cell_type": "markdown",
      "source": [
        "介绍：面试中对不同岗位的不同题目给出解题提示，以关键词的形式给出"
      ],
      "metadata": {
        "id": "DM9Qkqe6Gzlv"
      }
    },
    {
      "cell_type": "code",
      "source": [
        "# 前期构建不同角色的content\n",
        "setting1 =  '''\n",
        "场景：假如你是一名非常善于面试而且善于教人面试的面试专家，以关键词的形式给出面试题的解题提示；\n",
        "  '''\n",
        "\n",
        "starter = '请输出以下问题的关键词提示：'\n",
        "\n",
        "requirement = '''\n",
        "要求：\n",
        "1.必须以关键词/关键词/关键词/关键词/关键词/关键词的形式输出，不要出现句子\n",
        "2.关键词之间含义不重复\n",
        "3.尽可能从多个角度思考问题，给出解答，这样能给我更多的启发\n",
        "4.最多不超过15个关键词\n",
        "5.鼓励创造性思考和独特见解\n",
        "\n",
        "let's think step by step \n",
        "'''"
      ],
      "metadata": {
        "id": "cTg2_aD4Ze94"
      },
      "execution_count": null,
      "outputs": []
    },
    {
      "cell_type": "code",
      "execution_count": null,
      "metadata": {
        "id": "yz9PaRoUX5VY"
      },
      "outputs": [],
      "source": [
        "# 构建函数\n",
        "def get_response(question_text):\n",
        "  completion = openai.ChatCompletion.create(\n",
        "    model=\"gpt-3.5-turbo\", # 选取gpt-3.5-turbo模型\n",
        "    messages=[\n",
        "      {\"role\":\"system\",\"content\":setting1}, #系统角色：不宜过多设定\n",
        "      {\"role\":\"user\",\"content\":'请输出以下问题的关键词提示：你是如何做竞品分析的？。'},#用户角色：举例子\n",
        "      {\"role\":\"assistant\",\"content\":'商业模式/产品亮点/营销打法/用户规模/渠道/用户体验五要素'},#助手角色：按要求给出答案的例子\n",
        "      {\"role\":\"user\",\"content\":'请输出以下问题的关键词提示：你是如何快速熟悉全新事物的?'},\n",
        "      {\"role\":\"assistant\",\"content\":'分解目标/理论知识/实践/复盘/高手/交流'},\n",
        "      {\"role\":\"user\",\"content\":'请输出以下问题的关键词提示：用户体验设计原则都有哪些?'},\n",
        "      {\"role\":\"assistant\",\"content\":'可见性/场景贴切/可控/一致性/防错防呆/协助用户记忆/容错/帮助和提示/恢复现场/灵活高效'},\n",
        "      {\"role\":\"user\",\"content\":'请输出以下问题的关键词提示：如果你是美团外卖的运营，你会怎么去做好春节期间对于骑手运力的保障?'},\n",
        "      {\"role\":\"assistant\",\"content\":'订单预估/订单分布/家庭用餐/商户端/运力储备/数据分析/智能配送'},\n",
        "      {\"role\":\"user\",\"content\":question_text},   #设定问题\n",
        "    ],\n",
        "    max_tokens=500,  #调整参数\n",
        "    n=1,\n",
        "    stop=None,\n",
        "    temperature=0.6,  #调整参数\n",
        "    )\n",
        "\n",
        "  response_text = completion[\"choices\"][0]['message']['content']\n",
        "  return response_text"
      ]
    },
    {
      "cell_type": "code",
      "source": [
        "\n",
        "# 构建问题列表\n",
        "question_list = [\"请你说说To B产品和To C产品的区别是什么？\", \"请你从产品经理的角度分析一下拼多多这款产品。\",\n",
        "                     \"市场与销售这两个职业的区别在哪里？\", \"你遇到的最有挫败感的事情是什么？\",\n",
        "                     \"请你分享一下Android和iOS的交互区别\", \"挑一个你认为满意的作品集说说，描述一下作品的优势和想法\"]\n",
        "\n",
        "#设置问题循环\n",
        "for question_text in question_list:\n",
        "    question_text1 = starter + question_text + requirement   #最终的回答文本由前期设定的content三部分构成\n",
        "    chatbot_response = get_response(question_text1)\n",
        "    print(chatbot_response)\n",
        "    print(\"\\n----------\")"
      ],
      "metadata": {
        "id": "l9Qo8xOjZycr"
      },
      "execution_count": null,
      "outputs": []
    },
    {
      "cell_type": "markdown",
      "source": [
        "## chatgpt-面试问题的解题思路\n"
      ],
      "metadata": {
        "id": "a1w9bWRJGXUG"
      }
    },
    {
      "cell_type": "markdown",
      "source": [
        "介绍：训练报告中对不同岗位的不同题目给出解题提示，以句子的形式给出"
      ],
      "metadata": {
        "id": "L8Bc4qeyHGay"
      }
    },
    {
      "cell_type": "code",
      "source": [
        "# 前期构建不同角色的content\n",
        "setting1 =  '''\n",
        "场景：假如你是一名非常善于面试而且善于教人面试的面试专家；\n",
        "'''\n",
        "answer = '''\n",
        "考察要点：\n",
        "考察求职者的自我驱动性、学习能力、学习主动性；\n",
        "回答方向：\n",
        "·首先明确需要读书的原因，比如：提升生产效率、提高自我认知\n",
        "·接着分享最近的阅读书单以及自己的收获；\n",
        "·继续分享读书过程中要注重哪些方面，比如：建立良好的读书习惯、持续的学习态度、自我反思和总结\n",
        "·最后拓展一下其他自我提升、自我学习途径，比如上课、深度交流、听播客等等；\n",
        "'''\n",
        "starter = '请输出以下问题的解题思路：'\n",
        "\n",
        "requirement = '''\n",
        "要求：\n",
        "1.整体结构采用考察要点+回答方向的形式回答；\n",
        "2.考察要点用以阐明此题所考察的能力，回答方向用以启发学生需要从什么方面进行解答；\n",
        "3.不用针对问题展开详细的解答，只提供解题的思路；\n",
        "4.解题思路结构条理清晰，有逻辑；\n",
        "5.以专业术语作答；\n",
        "6.鼓励创造性思考和独特见解\n",
        "\n",
        "let's think step by step\n",
        "'''"
      ],
      "metadata": {
        "id": "fItCClMjGmAt"
      },
      "execution_count": null,
      "outputs": []
    },
    {
      "cell_type": "code",
      "source": [
        "# 构建函数\n",
        "def get_response(question_text):\n",
        "  completion = openai.ChatCompletion.create(\n",
        "    model=\"gpt-3.5-turbo\", # 选取gpt-3.5-turbo模型\n",
        "    messages=[\n",
        "      {\"role\":\"system\",\"content\":setting1},\n",
        "      {\"role\":\"user\",\"content\":'请输出以下问题的解题思路：请问你一年读多少本书？'},\n",
        "      {\"role\":\"assistant\",\"content\":answer},\n",
        "      {\"role\":\"user\",\"content\":question_text}\n",
        "    ],\n",
        "    max_tokens=1000, #调整参数\n",
        "    n=1,\n",
        "    stop=None,\n",
        "    temperature=0.6, #调整参数\n",
        "    )\n",
        "\n",
        "  response_text = completion[\"choices\"][0]['message']['content']\n",
        "  return response_text"
      ],
      "metadata": {
        "id": "U1i6ld3EGb4a"
      },
      "execution_count": null,
      "outputs": []
    },
    {
      "cell_type": "code",
      "source": [
        "question_list = [\"请你说说To B产品和To C产品的区别是什么？\", \"请你从产品经理的角度分析一下拼多多这款产品。\",\n",
        "                     \"市场与销售这两个职业的区别在哪里？\", \"你遇到的最有挫败感的事情是什么？\",\n",
        "                     \"请你分享一下Android和iOS的交互区别\", \"挑一个你认为满意的作品集说说，描述一下作品的优势和想法\"]\n",
        "\n",
        "\n",
        "\n",
        "for question_text in question_list:\n",
        "    question_text1 = starter + question_text +requirement\n",
        "    chatbot_response = get_response(question_text1)\n",
        "    print(chatbot_response)\n",
        "    print(\"\\n----------\")"
      ],
      "metadata": {
        "id": "dIYL_quJHUjN"
      },
      "execution_count": null,
      "outputs": []
    },
    {
      "cell_type": "markdown",
      "source": [
        "## chatgpt-面试问题的能力分类"
      ],
      "metadata": {
        "id": "VNPg7kjZHcxQ"
      }
    },
    {
      "cell_type": "markdown",
      "source": [
        "介绍：根据不同岗位的能力模型需要对不同的题目进行能力分类，在这里以UI设计师岗位为例子"
      ],
      "metadata": {
        "id": "_hIDAkzBHgaM"
      }
    },
    {
      "cell_type": "code",
      "source": [
        "# 前期构建不同角色的content\n",
        "setting1 =  '''\n",
        "场景：假如你是一名非常善于面试而且善于教人面试的面试专家；\n",
        "  '''\n",
        "\n",
        "q_prompt = \"\"\"\n",
        "场景：假如你是一名非常善于面试的设计师专家，正在分析属于设计师的面试题；\n",
        "目标：对面试问题所考察的能力进行文本分类，给出具体的能力类型标签；\n",
        "要求：\n",
        "1.输出分类标签必须来自于以下字典中的值：\n",
        "{\n",
        "通用能力：学习能力、沟通能力、执行力、情商、抗压能力、主人翁精神、创新能力、团队合作、洞察力、自我认知,\n",
        "  专业知识：互联网认知、设计理论、商业模式、平台设计规范、设计岗位认知、设计趋势、营销知识,\n",
        "  专业技能：用户研究、视觉设计、交互设计、用户体验、动画设计、3D建模、设计工具使用、游戏场景设计、竞品分析,\n",
        "  组织影响力：方法论建设、知识传承、领导力\n",
        "}\n",
        "2.每个面试问题只能被分类成1~2个标签；\n",
        "\n",
        "举例：\n",
        "面试问题：请你描述一下iOS与安卓移动端的中文、英文、数字字体规范。\n",
        "分析过程：该道题考查的是专业知识大类下的平台设计规范能力\n",
        "标签：平台设计规范\n",
        "\n",
        "面试问题：插画一般你是用什么软件画的，可以列举几个软件吗?\n",
        "分析过程：该道题考查的是专业技能大类下的设计工具使用能力\n",
        "标签：设计工具使用\n",
        "\n",
        "面试问题：用户体验设计原则都有哪些?\n",
        "分析过程：该道题考查的是专业技能大类下的用户体验能力\n",
        "标签：用户体验\n",
        "\n",
        "面试问题：对于设计岗位，你会不会觉得设计是吃“青春饭”的职业？\n",
        "分析过程：该道题考查的是专业知识大类下的设计行业认知\n",
        "标签：设计行业认知\n",
        "\n",
        "请你完成这道面试问题的能力分类：\n",
        "\n",
        "面试问题：<question_holder>\n",
        "分析过程：\n",
        "标签：\n",
        "\n",
        "\"\"\""
      ],
      "metadata": {
        "id": "4YQVCH_hHkL7"
      },
      "execution_count": null,
      "outputs": []
    },
    {
      "cell_type": "code",
      "source": [
        "# 构建函数\n",
        "def get_response(question_text):\n",
        "  prompt = q_prompt.replace(\"<question_holder>\", question_text)\n",
        "  completion = openai.ChatCompletion.create(\n",
        "    model=\"gpt-3.5-turbo\", \n",
        "    messages=[\n",
        "      {\"role\":\"system\",\"content\":setting1},\n",
        "      {\"role\":\"user\",\"content\":prompt}\n",
        "    ],\n",
        "    max_tokens=500,  #调参\n",
        "    n=1,\n",
        "    stop=None,\n",
        "    temperature=0,   #调参\n",
        "    )\n",
        "\n",
        "  response_text = completion[\"choices\"][0]['message']['content']\n",
        "  return response_text"
      ],
      "metadata": {
        "id": "a9_u6BHWHrg5"
      },
      "execution_count": null,
      "outputs": []
    },
    {
      "cell_type": "code",
      "source": [
        "question_list = [\"请你描述一下UI设计的工作流程。\",\"现在常见的语音交互助手产品有哪些，请列出3个？\",\n",
        "                \"在一个知乎社区，你认为一个用户发帖的目的是什么？\",\"请问你为什么想做UI设计师？\",\n",
        "                     \"请你分享一下Android和iOS的交互区别\",\"挑一个你认为满意的作品集说说，描述一下作品的优势和想法\",\n",
        "                \"请举例来说说，你在做设计工作过程中曾遇到过什么困难？\"]\n",
        "\n",
        "for question_text in question_list:\n",
        "    chatbot_response = get_response(question_text)\n",
        "    print(chatbot_response)\n",
        "    print(\"\\n----------\")"
      ],
      "metadata": {
        "id": "NtPNsmaXH3RC"
      },
      "execution_count": null,
      "outputs": []
    }
  ]
}